{
 "cells": [
  {
   "cell_type": "code",
   "execution_count": null,
   "metadata": {},
   "outputs": [],
   "source": [
    "import pandas as pd\n",
    "import numpy as np\n",
    "import statsmodels.api as sm\n",
    "import matplotlib.pyplot as plt"
   ]
  },
  {
   "cell_type": "markdown",
   "metadata": {},
   "source": [
    "# Route 66 Travel Time Distributions\n"
   ]
  },
  {
   "cell_type": "code",
   "execution_count": null,
   "metadata": {},
   "outputs": [],
   "source": [
    "arrival_df = pd.read_csv('MBTA_BusArrivalData.csv', encoding = 'latin-1')"
   ]
  },
  {
   "cell_type": "code",
   "execution_count": null,
   "metadata": {},
   "outputs": [],
   "source": [
    "arrival_df.head()"
   ]
  },
  {
   "cell_type": "code",
   "execution_count": null,
   "metadata": {},
   "outputs": [],
   "source": [
    "to_drop = arrival_df.loc[arrival_df['RouteName']!=66].index"
   ]
  },
  {
   "cell_type": "code",
   "execution_count": null,
   "metadata": {},
   "outputs": [],
   "source": [
    "arrival_df.drop(to_drop, inplace = True)"
   ]
  },
  {
   "cell_type": "code",
   "execution_count": null,
   "metadata": {},
   "outputs": [],
   "source": [
    "stop_list = ['Harvard Sq @ Garden St - Dawes Island',\n",
    "             'Harvard Ave @ Commonwealth Ave',\n",
    "             'Washington St @ Walnut',\n",
    "             'Dudley Station',\n",
    "             'Washington St @ Pearl St']"
   ]
  },
  {
   "cell_type": "code",
   "execution_count": null,
   "metadata": {},
   "outputs": [],
   "source": [
    "df = arrival_df.loc[arrival_df.StopName.isin(stop_list)].copy()"
   ]
  },
  {
   "cell_type": "code",
   "execution_count": null,
   "metadata": {},
   "outputs": [],
   "source": [
    "df.Vehicle.unique()"
   ]
  },
  {
   "cell_type": "code",
   "execution_count": null,
   "metadata": {},
   "outputs": [],
   "source": [
    "travel_times = {}\n",
    "for bus in df.Vehicle.unique():\n",
    "    df2=df.loc[df.Vehicle == bus].sort_values(by = 'ScheduledTimeInMin')\n",
    "    tt = df2.ActArrivalTimeInMin.shift(-1)-df2.ActDepartureTimeInMin\n",
    "    for segment in [0, 1, 2, 4, 5, 6]:\n",
    "        if segment  not in travel_times:\n",
    "            travel_times[segment] = []\n",
    "        seg_tt = tt.iloc[segment::8]\n",
    "        travel_times[segment].extend(seg_tt.loc[seg_tt > 0])\n"
   ]
  },
  {
   "cell_type": "code",
   "execution_count": null,
   "metadata": {},
   "outputs": [],
   "source": [
    "for key, values in travel_times.items():\n",
    "    plt.figure()\n",
    "    plt.hist(values, density=True)"
   ]
  },
  {
   "cell_type": "code",
   "execution_count": null,
   "metadata": {},
   "outputs": [],
   "source": [
    "tt_icdfs = {}\n",
    "for stop, data in travel_times.items():\n",
    "    kde = sm.nonparametric.KDEUnivariate(data)\n",
    "    kde.fit(kernel='tri', fft=False, cut=0, gridsize=1024)\n",
    "    plt.figure()\n",
    "    plt.plot(kde.support, kde.density, c='r')\n",
    "    plt.hist(data, density=True)\n",
    "    tt_icdfs[stop] = list(kde.icdf)"
   ]
  },
  {
   "cell_type": "code",
   "execution_count": null,
   "metadata": {},
   "outputs": [],
   "source": [
    "# import json\n",
    "# with open('travel_time_icdfs.json', 'w') as f:\n",
    "#     json.dump(tt_icdfs, f)"
   ]
  }
 ],
 "metadata": {
  "kernelspec": {
   "display_name": "Python 3",
   "language": "python",
   "name": "python3"
  },
  "language_info": {
   "codemirror_mode": {
    "name": "ipython",
    "version": 3
   },
   "file_extension": ".py",
   "mimetype": "text/x-python",
   "name": "python",
   "nbconvert_exporter": "python",
   "pygments_lexer": "ipython3",
   "version": "3.7.1"
  }
 },
 "nbformat": 4,
 "nbformat_minor": 2
}
